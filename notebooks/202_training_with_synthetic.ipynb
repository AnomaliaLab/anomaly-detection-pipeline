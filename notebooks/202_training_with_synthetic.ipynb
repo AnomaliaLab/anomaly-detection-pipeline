{
 "cells": [
  {
   "cell_type": "code",
   "execution_count": 2,
   "metadata": {},
   "outputs": [
    {
     "name": "stdout",
     "output_type": "stream",
     "text": [
      "The autoreload extension is already loaded. To reload it, use:\n",
      "  %reload_ext autoreload\n"
     ]
    }
   ],
   "source": [
    "%load_ext autoreload\n",
    "%autoreload 2"
   ]
  },
  {
   "cell_type": "code",
   "execution_count": 3,
   "metadata": {},
   "outputs": [],
   "source": [
    "import sys\n",
    "sys.path.append('../src')"
   ]
  },
  {
   "cell_type": "code",
   "execution_count": 4,
   "metadata": {},
   "outputs": [],
   "source": [
    "import utils.load_data as load_data"
   ]
  },
  {
   "cell_type": "markdown",
   "metadata": {},
   "source": [
    "### Generate training and scoring datasets"
   ]
  },
  {
   "cell_type": "code",
   "execution_count": 5,
   "metadata": {},
   "outputs": [],
   "source": [
    "training_data = load_data.generate_training_dataset()"
   ]
  },
  {
   "cell_type": "code",
   "execution_count": 6,
   "metadata": {},
   "outputs": [],
   "source": [
    "scoring_data = load_data.generate_scoring_dataset()"
   ]
  },
  {
   "cell_type": "code",
   "execution_count": 7,
   "metadata": {},
   "outputs": [
    {
     "data": {
      "text/plain": [
       "dict"
      ]
     },
     "execution_count": 7,
     "metadata": {},
     "output_type": "execute_result"
    }
   ],
   "source": [
    "type(training_data)"
   ]
  },
  {
   "cell_type": "code",
   "execution_count": 8,
   "metadata": {},
   "outputs": [
    {
     "data": {
      "text/plain": [
       "dict_items([('dataframe1',             sensor1\n",
       "timestamp          \n",
       "0.0        0.077296\n",
       "60.0       0.267174\n",
       "120.0      0.043499\n",
       "180.0      0.496127\n",
       "240.0      0.018368\n",
       "...             ...\n",
       "1209300.0  0.014550\n",
       "1209360.0  0.055149\n",
       "1209420.0  0.223898\n",
       "1209480.0  0.928385\n",
       "1209540.0  0.890612\n",
       "\n",
       "[20160 rows x 1 columns]), ('dataframe2',             sensor2\n",
       "timestamp          \n",
       "0.0        0.000000\n",
       "60.0      -0.304811\n",
       "120.0      0.580611\n",
       "180.0     -0.801153\n",
       "240.0      0.945445\n",
       "...             ...\n",
       "1209300.0  0.440960\n",
       "1209360.0 -0.693552\n",
       "1209420.0  0.880135\n",
       "1209480.0 -0.982953\n",
       "1209540.0  0.992219\n",
       "\n",
       "[20160 rows x 1 columns])])"
      ]
     },
     "execution_count": 8,
     "metadata": {},
     "output_type": "execute_result"
    }
   ],
   "source": [
    "training_data.items()"
   ]
  },
  {
   "cell_type": "code",
   "execution_count": null,
   "metadata": {},
   "outputs": [],
   "source": []
  },
  {
   "cell_type": "code",
   "execution_count": null,
   "metadata": {},
   "outputs": [],
   "source": []
  }
 ],
 "metadata": {
  "kernelspec": {
   "display_name": "base",
   "language": "python",
   "name": "python3"
  },
  "language_info": {
   "codemirror_mode": {
    "name": "ipython",
    "version": 3
   },
   "file_extension": ".py",
   "mimetype": "text/x-python",
   "name": "python",
   "nbconvert_exporter": "python",
   "pygments_lexer": "ipython3",
   "version": "3.12.7"
  }
 },
 "nbformat": 4,
 "nbformat_minor": 2
}

{
 "cells": [
  {
   "cell_type": "code",
   "execution_count": 37,
   "metadata": {},
   "outputs": [],
   "source": [
    "import sys\n",
    "sys.path.append('../config')\n",
    "sys.path.append('../logs')"
   ]
  },
  {
   "cell_type": "code",
   "execution_count": 38,
   "metadata": {},
   "outputs": [],
   "source": [
    "import logging\n",
    "import logging.config\n",
    "import os\n",
    "\n"
   ]
  },
  {
   "cell_type": "code",
   "execution_count": 42,
   "metadata": {},
   "outputs": [],
   "source": [
    "# Ensure logs directory exists\n",
    "os.makedirs(\"../logs\", exist_ok=True)"
   ]
  },
  {
   "cell_type": "code",
   "execution_count": 43,
   "metadata": {},
   "outputs": [],
   "source": [
    "# Load logging configuration from file\n",
    "logging.config.fileConfig(\"../config/logging.conf\")"
   ]
  },
  {
   "cell_type": "code",
   "execution_count": null,
   "metadata": {},
   "outputs": [],
   "source": []
  },
  {
   "cell_type": "code",
   "execution_count": 44,
   "metadata": {},
   "outputs": [
    {
     "name": "stdout",
     "output_type": "stream",
     "text": [
      "[2025-03-20 20:20:11] INFO - Pipeline started successfully\n",
      "[2025-03-20 20:20:11] WARNING - Potential issue detected\n",
      "[2025-03-20 20:20:11] ERROR - An error occurred while processing data\n",
      "[2025-03-20 20:20:11] CRITICAL - Critical issue in the pipeline\n"
     ]
    }
   ],
   "source": [
    "\n",
    "\n",
    "# Create a logger instance\n",
    "logger = logging.getLogger(\"ml_pipeline\")\n",
    "\n",
    "# Example logging usage\n",
    "logger.debug(\"This is a debug message (useful for debugging)\")\n",
    "logger.info(\"Pipeline started successfully\")\n",
    "logger.warning(\"Potential issue detected\")\n",
    "logger.error(\"An error occurred while processing data\")\n",
    "logger.critical(\"Critical issue in the pipeline\")\n"
   ]
  },
  {
   "cell_type": "code",
   "execution_count": 45,
   "metadata": {},
   "outputs": [
    {
     "name": "stdout",
     "output_type": "stream",
     "text": [
      "[2025-03-20 20:23:11] INFO - training is completed\n"
     ]
    }
   ],
   "source": [
    "logger.info(\"training is completed\")"
   ]
  },
  {
   "cell_type": "code",
   "execution_count": 46,
   "metadata": {},
   "outputs": [
    {
     "name": "stdout",
     "output_type": "stream",
     "text": [
      "Logging completed\n"
     ]
    }
   ],
   "source": [
    "print(\"Logging completed\")"
   ]
  },
  {
   "cell_type": "code",
   "execution_count": null,
   "metadata": {},
   "outputs": [],
   "source": []
  }
 ],
 "metadata": {
  "kernelspec": {
   "display_name": "mllearning",
   "language": "python",
   "name": "python3"
  },
  "language_info": {
   "codemirror_mode": {
    "name": "ipython",
    "version": 3
   },
   "file_extension": ".py",
   "mimetype": "text/x-python",
   "name": "python",
   "nbconvert_exporter": "python",
   "pygments_lexer": "ipython3",
   "version": "3.13.0"
  }
 },
 "nbformat": 4,
 "nbformat_minor": 2
}
